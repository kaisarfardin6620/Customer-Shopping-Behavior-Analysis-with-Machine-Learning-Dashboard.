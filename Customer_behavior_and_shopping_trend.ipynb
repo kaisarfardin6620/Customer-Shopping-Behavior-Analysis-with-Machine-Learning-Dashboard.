{
  "cells": [
    {
      "cell_type": "markdown",
      "metadata": {
        "id": "view-in-github",
        "colab_type": "text"
      },
      "source": [
        "<a href=\"https://colab.research.google.com/github/kaisarfardin6620/Customer-Shopping-Behavior-Analysis-with-Machine-Learning-Dashboard./blob/main/Customer_behavior_and_shopping_trend.ipynb\" target=\"_parent\"><img src=\"https://colab.research.google.com/assets/colab-badge.svg\" alt=\"Open In Colab\"/></a>"
      ]
    },
    {
      "cell_type": "code",
      "execution_count": null,
      "metadata": {
        "id": "iA5o12FuSaNS"
      },
      "outputs": [],
      "source": [
        "!pip install dataprep\n",
        "!pip install sketch"
      ]
    },
    {
      "cell_type": "code",
      "execution_count": null,
      "metadata": {
        "id": "GKir6CI8AHpU"
      },
      "outputs": [],
      "source": [
        "import numpy as np\n",
        "import pandas as pd\n",
        "import seaborn as sns\n",
        "import matplotlib.pyplot as plt\n",
        "%matplotlib inline\n",
        "import warnings\n",
        "warnings.filterwarnings('ignore')\n",
        "import plotly.express as px\n",
        "import plotly.graph_objects as go\n",
        "from plotly.subplots import make_subplots\n",
        "import plotly.figure_factory as ff\n",
        "import sketch\n",
        "from dataprep.eda import plot, plot_correlation\n",
        "pd.set_option('display.max_columns', 50)\n",
        "from sklearn.feature_selection import chi2\n",
        "from sklearn.preprocessing import LabelEncoder\n",
        "from sklearn.decomposition import PCA\n",
        "from sklearn.preprocessing import StandardScaler, LabelEncoder\n",
        "from sklearn.preprocessing import PolynomialFeatures\n",
        "from sklearn.cluster import KMeans\n",
        "from sklearn.model_selection import train_test_split\n",
        "from sklearn.metrics import accuracy_score, confusion_matrix, classification_report,mean_squared_error, r2_score\n",
        "from sklearn.linear_model import LogisticRegression, LinearRegression\n",
        "from sklearn.ensemble import RandomForestClassifier, RandomForestRegressor\n",
        "from sklearn.tree import DecisionTreeClassifier, DecisionTreeRegressor\n",
        "from sklearn.neighbors import KNeighborsClassifier, KNeighborsRegressor\n",
        "from sklearn.svm import SVC"
      ]
    },
    {
      "cell_type": "code",
      "execution_count": null,
      "metadata": {
        "id": "x27M32j0Aa2u"
      },
      "outputs": [],
      "source": [
        "from google.colab import drive\n",
        "drive.mount('/content/drive')"
      ]
    },
    {
      "cell_type": "code",
      "execution_count": null,
      "metadata": {
        "id": "W-po2JG3AoPz"
      },
      "outputs": [],
      "source": [
        "df = pd.read_csv('/content/drive/MyDrive/Dataset/shopping_behavior_updated.csv')"
      ]
    },
    {
      "cell_type": "code",
      "execution_count": null,
      "metadata": {
        "id": "BoMNe33eA7CD"
      },
      "outputs": [],
      "source": [
        "df.columns"
      ]
    },
    {
      "cell_type": "code",
      "execution_count": null,
      "metadata": {
        "id": "FVl7SwACA8uK"
      },
      "outputs": [],
      "source": [
        "df.shape"
      ]
    },
    {
      "cell_type": "code",
      "execution_count": null,
      "metadata": {
        "id": "GGGjKQL6A_th"
      },
      "outputs": [],
      "source": [
        "df.isnull().sum()"
      ]
    },
    {
      "cell_type": "code",
      "execution_count": null,
      "metadata": {
        "id": "hEgivRRrBDUV"
      },
      "outputs": [],
      "source": [
        "df.duplicated().sum()"
      ]
    },
    {
      "cell_type": "code",
      "execution_count": null,
      "metadata": {
        "id": "15D1FPNEBHwc"
      },
      "outputs": [],
      "source": [
        "df.sample(5)"
      ]
    },
    {
      "cell_type": "code",
      "execution_count": null,
      "metadata": {
        "id": "52W60A9QBLyj"
      },
      "outputs": [],
      "source": [
        "df.info()"
      ]
    },
    {
      "cell_type": "code",
      "execution_count": null,
      "metadata": {
        "id": "W8V6De9MBOYA"
      },
      "outputs": [],
      "source": [
        "df.head(5)"
      ]
    },
    {
      "cell_type": "code",
      "execution_count": null,
      "metadata": {
        "id": "C6eLetjqBSWC"
      },
      "outputs": [],
      "source": [
        "df.tail(5)"
      ]
    },
    {
      "cell_type": "code",
      "execution_count": null,
      "metadata": {
        "id": "hMx3mEMnBUoE"
      },
      "outputs": [],
      "source": [
        "df.describe()"
      ]
    },
    {
      "cell_type": "code",
      "execution_count": null,
      "metadata": {
        "id": "azUtA_gxBaan"
      },
      "outputs": [],
      "source": [
        "df.nunique()"
      ]
    },
    {
      "cell_type": "code",
      "execution_count": null,
      "metadata": {
        "id": "Ixl358NtFqxp"
      },
      "outputs": [],
      "source": [
        "df['Item Purchased'].value_counts()"
      ]
    },
    {
      "cell_type": "code",
      "execution_count": null,
      "metadata": {
        "id": "48-8byaUF_B-"
      },
      "outputs": [],
      "source": [
        "for col in df.columns:\n",
        "  print(col)\n",
        "  print(df[col].unique())"
      ]
    },
    {
      "cell_type": "code",
      "execution_count": null,
      "metadata": {
        "id": "yvYdY4ulGGmi"
      },
      "outputs": [],
      "source": [
        "df.dtypes"
      ]
    },
    {
      "cell_type": "code",
      "execution_count": null,
      "metadata": {
        "id": "86wuti8LGKJo"
      },
      "outputs": [],
      "source": [
        "numerical_column = df.select_dtypes(include=np.number).columns\n",
        "categorical_column = df.select_dtypes(exclude=np.number).columns\n",
        "print(numerical_column)\n",
        "print(categorical_column)"
      ]
    },
    {
      "cell_type": "code",
      "execution_count": null,
      "metadata": {
        "id": "wgirz2quGaWW"
      },
      "outputs": [],
      "source": [
        "plt.figure(figsize=(10,5))\n",
        "sns.pairplot(df)"
      ]
    },
    {
      "cell_type": "code",
      "execution_count": null,
      "metadata": {
        "id": "PRPwVZyoG1IF"
      },
      "outputs": [],
      "source": [
        "plot(df)"
      ]
    },
    {
      "cell_type": "code",
      "execution_count": null,
      "metadata": {
        "id": "0s4TOf3fIoGQ"
      },
      "outputs": [],
      "source": [
        "plt.figure(figsize=(12, 10))\n",
        "sns.heatmap(df.corr(), annot=True)\n",
        "plt.title('Correlation Heatmap')\n",
        "plt.show()"
      ]
    },
    {
      "cell_type": "code",
      "execution_count": null,
      "metadata": {
        "id": "uw-c5_WNIwCD"
      },
      "outputs": [],
      "source": [
        "plot(df, 'Age', 'Purchase Amount (USD)')"
      ]
    },
    {
      "cell_type": "code",
      "execution_count": null,
      "metadata": {
        "id": "XIFBwc3RI-k0"
      },
      "outputs": [],
      "source": [
        "plot(df, 'Age', 'Review Rating')"
      ]
    },
    {
      "cell_type": "code",
      "execution_count": null,
      "metadata": {
        "id": "wJwQrbyTJKuE"
      },
      "outputs": [],
      "source": [
        "plot(df, 'Age', 'Previous Purchases')"
      ]
    },
    {
      "cell_type": "code",
      "execution_count": null,
      "metadata": {
        "id": "4uzBb3zHJag7"
      },
      "outputs": [],
      "source": [
        "plot(df, 'Category', 'Item Purchased')"
      ]
    },
    {
      "cell_type": "code",
      "execution_count": null,
      "metadata": {
        "id": "pdJFpD8hJjQT"
      },
      "outputs": [],
      "source": [
        "plot(df, 'Age', 'Item Purchased')"
      ]
    },
    {
      "cell_type": "code",
      "execution_count": null,
      "metadata": {
        "id": "b-3bKBftJtHA"
      },
      "outputs": [],
      "source": [
        "plot(df, 'Gender', 'Item Purchased')"
      ]
    },
    {
      "cell_type": "code",
      "execution_count": null,
      "metadata": {
        "id": "EPbdrsBoJufB"
      },
      "outputs": [],
      "source": [
        "plot(df, 'Item Purchased', 'Size')"
      ]
    },
    {
      "cell_type": "code",
      "execution_count": null,
      "metadata": {
        "id": "4AweZoiDJxfu"
      },
      "outputs": [],
      "source": [
        "plot(df, 'Category', 'Color')"
      ]
    },
    {
      "cell_type": "code",
      "execution_count": null,
      "metadata": {
        "id": "d86R_MMYJ00v"
      },
      "outputs": [],
      "source": [
        "plot(df, 'Gender', 'Color')"
      ]
    },
    {
      "cell_type": "code",
      "execution_count": null,
      "metadata": {
        "id": "Emb7ty9EJ34S"
      },
      "outputs": [],
      "source": [
        "plot(df, 'Gender', 'Size')"
      ]
    },
    {
      "cell_type": "code",
      "execution_count": null,
      "metadata": {
        "id": "VJWeVT8qJ7Hk"
      },
      "outputs": [],
      "source": [
        "plot(df, 'Location', 'Gender')"
      ]
    },
    {
      "cell_type": "code",
      "execution_count": null,
      "metadata": {
        "id": "wiOGBbgiJ91R"
      },
      "outputs": [],
      "source": [
        "plot(df, 'Gender', 'Season')"
      ]
    },
    {
      "cell_type": "code",
      "execution_count": null,
      "metadata": {
        "id": "txDzk95RKAlT"
      },
      "outputs": [],
      "source": [
        "plot(df, 'Gender', 'Payment Method')"
      ]
    },
    {
      "cell_type": "code",
      "execution_count": null,
      "metadata": {
        "id": "DQiOCGbyKE8M"
      },
      "outputs": [],
      "source": [
        "plot(df, 'Gender', 'Discount Applied')"
      ]
    },
    {
      "cell_type": "code",
      "execution_count": null,
      "metadata": {
        "id": "RpSQrJjmKMZu"
      },
      "outputs": [],
      "source": [
        "plot(df, 'Category', 'Review Rating')"
      ]
    },
    {
      "cell_type": "code",
      "execution_count": null,
      "metadata": {
        "id": "aqFHeox_KNxA"
      },
      "outputs": [],
      "source": [
        "plot(df, 'Item Purchased', 'Frequency of Purchases')"
      ]
    },
    {
      "cell_type": "code",
      "execution_count": null,
      "metadata": {
        "id": "ZegR9hBJKTQ8"
      },
      "outputs": [],
      "source": [
        "plot(df, 'Category', 'Frequency of Purchases')"
      ]
    },
    {
      "cell_type": "code",
      "execution_count": null,
      "metadata": {
        "id": "yMG-gD9cKVi1"
      },
      "outputs": [],
      "source": [
        "px.scatter(df, y='Purchase Amount (USD)', x='Previous Purchases', color='Review Rating', hover_data=['Discount Applied']).show()"
      ]
    },
    {
      "cell_type": "code",
      "execution_count": null,
      "metadata": {
        "colab": {
          "background_save": true
        },
        "id": "oK6BANfsKYo0"
      },
      "outputs": [],
      "source": [
        "data = pd.melt(df, id_vars='Gender', value_vars=['Age', 'Purchase Amount (USD)', 'Review Rating', 'Previous Purchases'])\n",
        "px.box(data, x='Gender', y='value', color='variable', title='Gender Analysis').show()"
      ]
    },
    {
      "cell_type": "code",
      "execution_count": null,
      "metadata": {
        "id": "ri-Gq0tILg2L"
      },
      "outputs": [],
      "source": [
        "categorical_features = ['Gender', 'Category', 'Season', 'Subscription Status']\n",
        "df_encoded = df.copy()\n",
        "label_encoders = {}\n",
        "\n",
        "for col in categorical_features:\n",
        "    le = LabelEncoder()\n",
        "    df_encoded[col] = le.fit_transform(df[col])\n",
        "    label_encoders[col] = le"
      ]
    },
    {
      "cell_type": "code",
      "execution_count": null,
      "metadata": {
        "colab": {
          "background_save": true
        },
        "id": "MTVQF3y9T4e1"
      },
      "outputs": [],
      "source": [
        "X_categorical = df_encoded[['Gender', 'Category', 'Season']]\n",
        "y_classification = df_encoded['Subscription Status']\n",
        "chi_scores = chi2(X_categorical, y_classification)"
      ]
    },
    {
      "cell_type": "code",
      "execution_count": null,
      "metadata": {
        "id": "tpvhu9wDT56S"
      },
      "outputs": [],
      "source": [
        "feature_scores = pd.DataFrame({\"Feature\": X_categorical.columns, \"Chi2 Score\": chi_scores[0]})\n",
        "print(feature_scores)"
      ]
    },
    {
      "cell_type": "code",
      "execution_count": null,
      "metadata": {
        "colab": {
          "background_save": true
        },
        "id": "eTJQHWyET9no"
      },
      "outputs": [],
      "source": [
        "numerical_features = ['Age', 'Purchase Amount (USD)', 'Frequency of Purchases', 'Previous Purchases', 'Review Rating']\n",
        "df[numerical_features].hist(figsize=(12, 8), bins=15, color='skyblue', edgecolor='black')\n",
        "plt.suptitle(\"Distribution of Numerical Features\")\n",
        "plt.show()"
      ]
    },
    {
      "cell_type": "code",
      "execution_count": null,
      "metadata": {
        "colab": {
          "background_save": true
        },
        "id": "FzEzUXQMUJ6d"
      },
      "outputs": [],
      "source": [
        "plt.figure(figsize=(10, 6))\n",
        "sns.boxplot(data=df[numerical_features])\n",
        "plt.title(\"Boxplot of Numerical Features\")\n",
        "plt.xticks(rotation=45)\n",
        "plt.show()"
      ]
    },
    {
      "cell_type": "code",
      "execution_count": null,
      "metadata": {
        "colab": {
          "background_save": true
        },
        "id": "n0pe8o0sUOFo"
      },
      "outputs": [],
      "source": [
        "categorical_features = ['Gender', 'Category', 'Season', 'Subscription Status']\n",
        "for feature in categorical_features:\n",
        "    plt.figure(figsize=(8, 4))\n",
        "    sns.countplot(x=feature, data=df, palette=\"viridis\")\n",
        "    plt.title(f\"Count Plot of {feature}\")\n",
        "    plt.show()"
      ]
    },
    {
      "cell_type": "code",
      "execution_count": null,
      "metadata": {
        "colab": {
          "background_save": true
        },
        "id": "Czp-QnpvUoS4"
      },
      "outputs": [],
      "source": [
        "le = LabelEncoder()"
      ]
    },
    {
      "cell_type": "code",
      "execution_count": null,
      "metadata": {
        "colab": {
          "background_save": true
        },
        "id": "E6UkzeeSUopP"
      },
      "outputs": [],
      "source": [
        "df['Frequency of Purchases'] = le.fit_transform(df['Frequency of Purchases'])"
      ]
    },
    {
      "cell_type": "code",
      "execution_count": null,
      "metadata": {
        "colab": {
          "background_save": true
        },
        "id": "_YDxopWcURt5"
      },
      "outputs": [],
      "source": [
        "scaler = StandardScaler()\n",
        "X_scaled = scaler.fit_transform(df[numerical_features])"
      ]
    },
    {
      "cell_type": "code",
      "execution_count": null,
      "metadata": {
        "colab": {
          "background_save": true
        },
        "id": "g7l75ryYU3HQ"
      },
      "outputs": [],
      "source": [
        "pca = PCA(n_components=2)\n",
        "X_pca = pca.fit_transform(X_scaled)"
      ]
    },
    {
      "cell_type": "code",
      "execution_count": null,
      "metadata": {
        "colab": {
          "background_save": true
        },
        "id": "mpklHmaIU61J"
      },
      "outputs": [],
      "source": [
        "df['PCA1'], df['PCA2'] = X_pca[:, 0], X_pca[:, 1]"
      ]
    },
    {
      "cell_type": "code",
      "execution_count": null,
      "metadata": {
        "id": "ktl8Ue6nU8LW"
      },
      "outputs": [],
      "source": [
        "plt.figure(figsize=(8, 6))\n",
        "sns.scatterplot(x='PCA1', y='PCA2', data=df, hue='Subscription Status', palette=\"Set2\")\n",
        "plt.title(\"PCA Scatter Plot\")\n",
        "plt.show()"
      ]
    },
    {
      "cell_type": "code",
      "execution_count": null,
      "metadata": {
        "colab": {
          "background_save": true
        },
        "id": "7rQD-QpEVC12"
      },
      "outputs": [],
      "source": [
        "print(f\"Explained Variance Ratio: {pca.explained_variance_ratio_}\")"
      ]
    },
    {
      "cell_type": "code",
      "execution_count": null,
      "metadata": {
        "colab": {
          "background_save": true
        },
        "id": "xoWMZYhIVD-Z"
      },
      "outputs": [],
      "source": [
        "df['Age_Purchase'] = df['Age'] * df['Purchase Amount (USD)']\n",
        "df['Frequency_Purchase'] = df['Frequency of Purchases'] / (df['Previous Purchases'] + 1)"
      ]
    },
    {
      "cell_type": "code",
      "execution_count": null,
      "metadata": {
        "colab": {
          "background_save": true
        },
        "id": "H5tz5tOPVJun"
      },
      "outputs": [],
      "source": [
        "print(df[['Age', 'Purchase Amount (USD)', 'Age_Purchase', 'Frequency_Purchase']].head())"
      ]
    },
    {
      "cell_type": "code",
      "execution_count": null,
      "metadata": {
        "id": "P2TLmkVbVOSr"
      },
      "outputs": [],
      "source": [
        "poly = PolynomialFeatures(degree=2, include_bias=False)\n",
        "X_poly = poly.fit_transform(df[['Age', 'Previous Purchases', 'Frequency of Purchases']])"
      ]
    },
    {
      "cell_type": "code",
      "execution_count": null,
      "metadata": {
        "id": "HACgilUAVdAF"
      },
      "outputs": [],
      "source": [
        "print(\"Original Features:\", df[['Age', 'Previous Purchases', 'Frequency of Purchases']].shape)\n",
        "print(\"Polynomial Features:\", X_poly.shape)"
      ]
    },
    {
      "cell_type": "code",
      "execution_count": null,
      "metadata": {
        "id": "WdD3tpWkWOV6"
      },
      "outputs": [],
      "source": [
        "numerical_features = ['Age', 'Purchase Amount (USD)', 'Frequency of Purchases', 'Previous Purchases']"
      ]
    },
    {
      "cell_type": "code",
      "execution_count": null,
      "metadata": {
        "id": "_q7nyGKGWSyo"
      },
      "outputs": [],
      "source": [
        "scaler = StandardScaler()\n",
        "X_normalized = scaler.fit_transform(df[numerical_features])"
      ]
    },
    {
      "cell_type": "code",
      "execution_count": null,
      "metadata": {
        "id": "18Cwp_cMVhO6"
      },
      "outputs": [],
      "source": [
        "inertia = []\n",
        "for k in range(1, 11):\n",
        "    kmeans = KMeans(n_clusters=k, random_state=42)\n",
        "    kmeans.fit(X_normalized)\n",
        "    inertia.append(kmeans.inertia_)"
      ]
    },
    {
      "cell_type": "code",
      "execution_count": null,
      "metadata": {
        "id": "zgR6NI0AWY-U"
      },
      "outputs": [],
      "source": [
        "plt.figure(figsize=(8, 5))\n",
        "plt.plot(range(1, 11), inertia, marker='o')\n",
        "plt.title(\"Elbow Method\")\n",
        "plt.xlabel(\"Number of Clusters\")\n",
        "plt.ylabel(\"Inertia\")\n",
        "plt.show()"
      ]
    },
    {
      "cell_type": "code",
      "execution_count": null,
      "metadata": {
        "id": "OgtlSfBJWfUQ"
      },
      "outputs": [],
      "source": [
        "kmeans = KMeans(n_clusters=3, random_state=42)\n",
        "df['Cluster'] = kmeans.fit_predict(X_normalized)"
      ]
    },
    {
      "cell_type": "code",
      "execution_count": null,
      "metadata": {
        "id": "k-yq4i4gWg5h"
      },
      "outputs": [],
      "source": [
        "plt.figure(figsize=(8, 6))\n",
        "plt.scatter(X_normalized[:, 0], X_normalized[:, 1], c=df['Cluster'], cmap='viridis', s=50)\n",
        "plt.title(\"Customer Clusters\")\n",
        "plt.xlabel(\"Normalized Feature 1\")\n",
        "plt.ylabel(\"Normalized Feature 2\")\n",
        "plt.colorbar(label=\"Cluster\")\n",
        "plt.show()"
      ]
    },
    {
      "cell_type": "code",
      "execution_count": null,
      "metadata": {
        "id": "mj9bNYHsWlBn"
      },
      "outputs": [],
      "source": [
        "df.sample(5)"
      ]
    },
    {
      "cell_type": "code",
      "execution_count": null,
      "metadata": {
        "id": "sOstsV2vUc5N"
      },
      "outputs": [],
      "source": [
        "X_classification = df[['Age', 'Purchase Amount (USD)', 'Frequency of Purchases', 'Previous Purchases', 'Review Rating']]\n",
        "y_classification = df['Subscription Status']\n",
        "y_classification = y_classification.map({'Yes': 1, 'No': 0})"
      ]
    },
    {
      "cell_type": "code",
      "execution_count": null,
      "metadata": {
        "id": "HKp4TDTlUdFm"
      },
      "outputs": [],
      "source": [
        "X_train, X_test, y_train, y_test = train_test_split(X_classification, y_classification, test_size=0.2, random_state=42)"
      ]
    },
    {
      "cell_type": "code",
      "execution_count": null,
      "metadata": {
        "id": "4RmrLlduUdKL"
      },
      "outputs": [],
      "source": [
        "lr = LinearRegression()\n",
        "lr.fit(X_train, y_train)"
      ]
    },
    {
      "cell_type": "code",
      "execution_count": null,
      "metadata": {
        "id": "83v_YgyvUdM-"
      },
      "outputs": [],
      "source": [
        "lg = LogisticRegression()\n",
        "lg.fit(X_train, y_train)"
      ]
    },
    {
      "cell_type": "code",
      "execution_count": null,
      "metadata": {
        "id": "g65_QfbsUdPU"
      },
      "outputs": [],
      "source": [
        "rf = RandomForestClassifier()\n",
        "rf.fit(X_train, y_train)"
      ]
    },
    {
      "cell_type": "code",
      "execution_count": null,
      "metadata": {
        "id": "HGgsO25XUdS5"
      },
      "outputs": [],
      "source": [
        "dt = DecisionTreeClassifier()\n",
        "dt.fit(X_train, y_train)"
      ]
    },
    {
      "cell_type": "code",
      "execution_count": null,
      "metadata": {
        "id": "E-w-kCB4UdWW"
      },
      "outputs": [],
      "source": [
        "knn = KNeighborsClassifier()\n",
        "knn.fit(X_train, y_train)"
      ]
    },
    {
      "cell_type": "code",
      "execution_count": null,
      "metadata": {
        "id": "rpOhdvq3UdZZ"
      },
      "outputs": [],
      "source": [
        "svm = SVC()\n",
        "svm.fit(X_train, y_train)"
      ]
    },
    {
      "cell_type": "code",
      "execution_count": null,
      "metadata": {
        "id": "gCHLTTrmWiRw"
      },
      "outputs": [],
      "source": [
        "y_pred = lg.predict(X_test)\n",
        "accuracy = accuracy_score(y_test, y_pred)\n",
        "classification_rep = classification_report(y_test, y_pred)\n",
        "confusion_mat = confusion_matrix(y_test, y_pred)\n",
        "print(\"Logistic Regression Accuracy:\", accuracy)\n",
        "print(\"Logistic Regression Classification Report:\\n\", classification_rep)\n",
        "print(\"Logistic Regression Confusion Matrix:\\n\", confusion_mat)"
      ]
    },
    {
      "cell_type": "code",
      "execution_count": null,
      "metadata": {
        "id": "ipIK-EPzXRK5"
      },
      "outputs": [],
      "source": [
        "y_pred = rf.predict(X_test)\n",
        "accuracy = accuracy_score(y_test, y_pred)\n",
        "classification_rep = classification_report(y_test, y_pred)\n",
        "confusion_mat = confusion_matrix(y_test, y_pred)\n",
        "print(\"Randomforest Accuracy:\", accuracy)\n",
        "print(\"Randomforest Classification Report:\\n\", classification_rep)\n",
        "print(\"Randomforest Confusion Matrix:\\n\", confusion_mat)"
      ]
    },
    {
      "cell_type": "code",
      "execution_count": null,
      "metadata": {
        "id": "_s4RR2DJXXB1"
      },
      "outputs": [],
      "source": [
        "y_pred = dt.predict(X_test)\n",
        "accuracy = accuracy_score(y_test, y_pred)\n",
        "classification_rep = classification_report(y_test, y_pred)\n",
        "confusion_mat = confusion_matrix(y_test, y_pred)\n",
        "print(\"DecisionTree Accuracy:\", accuracy)\n",
        "print(\"DecisionTree Classification Report:\\n\", classification_rep)\n",
        "print(\"DecisionTree Confusion Matrix:\\n\", confusion_mat)"
      ]
    },
    {
      "cell_type": "code",
      "execution_count": null,
      "metadata": {
        "id": "syvTSDdvXYod"
      },
      "outputs": [],
      "source": [
        "y_pred = knn.predict(X_test)\n",
        "accuracy = accuracy_score(y_test, y_pred)\n",
        "classification_rep = classification_report(y_test, y_pred)\n",
        "confusion_mat = confusion_matrix(y_test, y_pred)\n",
        "print(\"KNN Accuracy:\", accuracy)\n",
        "print(\"KNN Classification Report:\\n\", classification_rep)\n",
        "print(\"KNN Confusion Matrix:\\n\", confusion_mat)"
      ]
    },
    {
      "cell_type": "code",
      "execution_count": null,
      "metadata": {
        "id": "zzXq5XcnXayA"
      },
      "outputs": [],
      "source": [
        "y_pred = svm.predict(X_test)\n",
        "accuracy = accuracy_score(y_test, y_pred)\n",
        "classification_rep = classification_report(y_test, y_pred)\n",
        "confusion_mat = confusion_matrix(y_test, y_pred)\n",
        "print(\"SVM Accuracy:\", accuracy)\n",
        "print(\"SVM Classification Report:\\n\", classification_rep)\n",
        "print(\"SVM Confusion Matrix:\\n\", confusion_mat)"
      ]
    },
    {
      "cell_type": "code",
      "source": [
        "linear_model = LinearRegression()\n",
        "linear_model.fit(X_train, y_train)"
      ],
      "metadata": {
        "id": "YeOaGfCpQd1y"
      },
      "execution_count": null,
      "outputs": []
    },
    {
      "cell_type": "code",
      "execution_count": null,
      "metadata": {
        "id": "3pgPnNUCYd1K"
      },
      "outputs": [],
      "source": [
        "y_pred = linear_model.predict(X_test)\n",
        "print(\"Mean Squared Error (MSE):\", mean_squared_error(y_test, y_pred))\n",
        "print(\"R-Squared (R2):\", r2_score(y_test, y_pred))\n"
      ]
    },
    {
      "cell_type": "code",
      "source": [
        "rf_model = RandomForestRegressor(random_state=42)\n",
        "rf_model.fit(X_train, y_train)"
      ],
      "metadata": {
        "id": "4h1M2ZZPQpPN"
      },
      "execution_count": null,
      "outputs": []
    },
    {
      "cell_type": "code",
      "execution_count": null,
      "metadata": {
        "id": "cNcktYYaYd4J"
      },
      "outputs": [],
      "source": [
        "y_pred = rf_model.predict(X_test)\n",
        "print(\"Mean Squared Error (MSE):\", mean_squared_error(y_test, y_pred))\n",
        "print(\"R-Squared (R2):\", r2_score(y_test, y_pred))\n"
      ]
    },
    {
      "cell_type": "code",
      "source": [
        "dt_model = DecisionTreeRegressor(random_state=42)\n",
        "dt_model.fit(X_train, y_train)"
      ],
      "metadata": {
        "id": "M6t2wHQKQvVe"
      },
      "execution_count": null,
      "outputs": []
    },
    {
      "cell_type": "code",
      "execution_count": null,
      "metadata": {
        "id": "tQTngKAAYd7p"
      },
      "outputs": [],
      "source": [
        "y_pred = dt_model.predict(X_test)\n",
        "print(\"Mean Squared Error (MSE):\", mean_squared_error(y_test, y_pred))\n",
        "print(\"R-Squared (R2):\", r2_score(y_test, y_pred))\n"
      ]
    },
    {
      "cell_type": "code",
      "source": [
        "knn_model = KNeighborsRegressor(n_neighbors=5)\n",
        "knn_model.fit(X_train, y_train)"
      ],
      "metadata": {
        "id": "zZxE-FxVQ23g"
      },
      "execution_count": null,
      "outputs": []
    },
    {
      "cell_type": "code",
      "execution_count": null,
      "metadata": {
        "id": "JXnw9tmjYeBa"
      },
      "outputs": [],
      "source": [
        "y_pred = knn_model.predict(X_test)\n",
        "print(\"Mean Squared Error (MSE):\", mean_squared_error(y_test, y_pred))\n",
        "print(\"R-Squared (R2):\", r2_score(y_test, y_pred))\n"
      ]
    },
    {
      "cell_type": "code",
      "source": [
        "svm_model = SVR(kernel='linear')\n",
        "svm_model.fit(X_train, y_train)"
      ],
      "metadata": {
        "id": "nl0iCB6XQ708"
      },
      "execution_count": null,
      "outputs": []
    },
    {
      "cell_type": "code",
      "execution_count": null,
      "metadata": {
        "id": "f5fwhY6XYeE8"
      },
      "outputs": [],
      "source": [
        "y_pred = svm_model.predict(X_test)\n",
        "print(\"Mean Squared Error (MSE):\", mean_squared_error(y_test, y_pred))\n",
        "print(\"R-Squared (R2):\", r2_score(y_test, y_pred))"
      ]
    },
    {
      "cell_type": "code",
      "execution_count": null,
      "metadata": {
        "id": "V_6fpSK-YeH_"
      },
      "outputs": [],
      "source": []
    },
    {
      "cell_type": "code",
      "execution_count": null,
      "metadata": {
        "id": "L0LdFIH7YeKd"
      },
      "outputs": [],
      "source": []
    },
    {
      "cell_type": "code",
      "execution_count": null,
      "metadata": {
        "id": "s-OnWadEYeMy"
      },
      "outputs": [],
      "source": []
    },
    {
      "cell_type": "code",
      "execution_count": null,
      "metadata": {
        "id": "hxu0jzgvYePw"
      },
      "outputs": [],
      "source": []
    }
  ],
  "metadata": {
    "colab": {
      "provenance": [],
      "authorship_tag": "ABX9TyP6VSA1ouAmQO4NhsBHhjSU",
      "include_colab_link": true
    },
    "kernelspec": {
      "display_name": "Python 3",
      "name": "python3"
    },
    "language_info": {
      "name": "python"
    }
  },
  "nbformat": 4,
  "nbformat_minor": 0
}